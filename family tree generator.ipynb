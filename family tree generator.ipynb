{
 "cells": [
  {
   "cell_type": "code",
   "execution_count": 2,
   "metadata": {},
   "outputs": [],
   "source": [
    "# Inspired by https://medium.com/@ahsenparwez/building-a-family-tree-with-python-and-graphviz-e4afb8367316\n",
    "from graphviz import Digraph\n",
    "import pandas as pd\n",
    "import numpy as np"
   ]
  },
  {
   "cell_type": "code",
   "execution_count": 29,
   "metadata": {
    "scrolled": true
   },
   "outputs": [],
   "source": [
    "def generatefamilytree(source,dest):\n",
    "    ancestry = pd.read_csv(source).dropna(subset=['Person 1','Gender'])\n",
    "    dot = Digraph(comment = 'Ancestry', graph_attr = {'splines':'ortho'})\n",
    "    node_nm = []\n",
    "    individuals=set(list(ancestry['Person 1'])+list(ancestry.dropna(subset=['Person 2'])['Person 2']))\n",
    "    for person in individuals:\n",
    "        try:\n",
    "            g=[*ancestry.loc[ancestry['Person 1'] == person]['Gender']][0]\n",
    "        except:\n",
    "            print(person)\n",
    "        sh = 'rect' if g == 'M' else 'ellipse'\n",
    "        dot.node(person, person, shape = sh)\n",
    "    # Spouse Relationship\n",
    "    this_gen = ancestry[ancestry['Relation']=='Spouse']\n",
    "    if len(this_gen) > 0:\n",
    "        for j in range(0, len(this_gen)):\n",
    "            per1 = this_gen['Person 1'].iloc[j]\n",
    "            per2 = this_gen['Person 2'].iloc[j]\n",
    "            g = this_gen['Gender'].iloc[j]\n",
    "            sh = 'rect' if g == 'M' else 'ellipse'\n",
    "            with dot.subgraph() as subs:\n",
    "                subs.attr(rank = 'same')\n",
    "                subs.edge(per2, per1, arrowhead = 'none', color = \"black:invis:black\")\n",
    "\n",
    "    # Child Relationship\n",
    "    this_gen = ancestry[ancestry['Relation']=='Child']\n",
    "    if len(this_gen) > 0:\n",
    "        for j in range(0, len(this_gen)):\n",
    "            per1 = this_gen['Person 1'].iloc[j]\n",
    "            per2 = this_gen['Person 2'].iloc[j]\n",
    "            g = this_gen['Gender'].iloc[j]\n",
    "            sh = 'rect' if g == 'M' else 'ellipse'\n",
    "            dot.edge(per2, per1)\n",
    "    dot.format = 'svg'\n",
    "    dot.render(dest, view=True)"
   ]
  },
  {
   "cell_type": "code",
   "execution_count": 36,
   "metadata": {
    "scrolled": true
   },
   "outputs": [],
   "source": [
    "generatefamilytree('../myfamily.csv','myfamily.svg')"
   ]
  },
  {
   "cell_type": "code",
   "execution_count": 38,
   "metadata": {
    "scrolled": true
   },
   "outputs": [],
   "source": [
    "generatefamilytree('../britishroyalfamily.csv','britishroyalfamily.svg')"
   ]
  },
  {
   "cell_type": "code",
   "execution_count": null,
   "metadata": {
    "scrolled": true
   },
   "outputs": [],
   "source": []
  },
  {
   "cell_type": "code",
   "execution_count": null,
   "metadata": {},
   "outputs": [],
   "source": []
  },
  {
   "cell_type": "code",
   "execution_count": null,
   "metadata": {},
   "outputs": [],
   "source": []
  }
 ],
 "metadata": {
  "kernelspec": {
   "display_name": "Python 3",
   "language": "python",
   "name": "python3"
  },
  "language_info": {
   "codemirror_mode": {
    "name": "ipython",
    "version": 3
   },
   "file_extension": ".py",
   "mimetype": "text/x-python",
   "name": "python",
   "nbconvert_exporter": "python",
   "pygments_lexer": "ipython3",
   "version": "3.8.5"
  }
 },
 "nbformat": 4,
 "nbformat_minor": 4
}
