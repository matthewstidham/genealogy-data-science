{
 "cells": [
  {
   "cell_type": "code",
   "execution_count": 2,
   "metadata": {},
   "outputs": [],
   "source": [
    "# Inspired by https://medium.com/@ahsenparwez/building-a-family-tree-with-python-and-graphviz-e4afb8367316\n",
    "from graphviz import Digraph\n",
    "import pandas as pd\n",
    "import numpy as np"
   ]
  },
  {
   "cell_type": "code",
   "execution_count": 29,
   "metadata": {
    "scrolled": true
   },
   "outputs": [],
   "source": [
    "def generatefamilytree(source,dest):\n",
    "    ancestry = pd.read_csv(source).dropna(subset=['Person 1','Gender'])\n",
    "    dot = Digraph(comment = 'Ancestry', graph_attr = {'splines':'ortho'})\n",
    "    node_nm = []\n",
    "    individuals=set(list(ancestry['Person 1'])+list(ancestry.dropna(subset=['Person 2'])['Person 2']))\n",
    "    for person in individuals:\n",
    "        try:\n",
    "            g=[*ancestry.loc[ancestry['Person 1'] == person]['Gender']][0]\n",
    "        except:\n",
    "            print(person)\n",
    "        sh = 'rect' if g == 'M' else 'ellipse'\n",
    "        dot.node(person, person, shape = sh)\n",
    "    # Spouse Relationship\n",
    "    this_gen = ancestry[ancestry['Relation']=='Spouse']\n",
    "    if len(this_gen) > 0:\n",
    "        for j in range(0, len(this_gen)):\n",
    "            per1 = this_gen['Person 1'].iloc[j]\n",
    "            per2 = this_gen['Person 2'].iloc[j]\n",
    "            g = this_gen['Gender'].iloc[j]\n",
    "            sh = 'rect' if g == 'M' else 'ellipse'\n",
    "            with dot.subgraph() as subs:\n",
    "                subs.attr(rank = 'same')\n",
    "                subs.edge(per2, per1, arrowhead = 'none', color = \"black:invis:black\")\n",
    "\n",
    "    # Child Relationship\n",
    "    this_gen = ancestry[ancestry['Relation']=='Child']\n",
    "    if len(this_gen) > 0:\n",
    "        for j in range(0, len(this_gen)):\n",
    "            per1 = this_gen['Person 1'].iloc[j]\n",
    "            per2 = this_gen['Person 2'].iloc[j]\n",
    "            g = this_gen['Gender'].iloc[j]\n",
    "            sh = 'rect' if g == 'M' else 'ellipse'\n",
    "            dot.edge(per2, per1)\n",
    "    dot.format = 'svg'\n",
    "    dot.render(dest, view=True)"
   ]
  },
  {
   "cell_type": "code",
   "execution_count": 25,
   "metadata": {
    "scrolled": true
   },
   "outputs": [
    {
     "name": "stdout",
     "output_type": "stream",
     "text": [
      "['Thomas Stidham Jr.', 'Matthew Stidham']\n",
      "['Thomas Stidham Jr.', 'Granville Stidham']\n",
      "['Thomas Stidham Sr.', 'Thomas Stidham Jr.']\n",
      "['Thomas Stidham Sr.', 'Kent Stidham']\n",
      "['Kent Stidham', 'Samantha Stidham']\n",
      "['Kent Stidham', 'Parker Stidham']\n",
      "['Thomas Stidham Sr.', 'Carol Stidham']\n",
      "['Carol Stidham', 'Zoe Crane']\n",
      "['Carol Stidham', 'Zach Crane']\n",
      "['Thomas Stidham Sr.', 'David Stidham']\n",
      "['Thomas Stidham Sr.', 'Mark Stidham']\n",
      "['Franklin Dare', 'Matthew Dare']\n",
      "['Ursula Henry', 'Dolly Brandau']\n",
      "['Ursula Henry', 'Cindy Dare']\n",
      "['Cindy Dare', 'Paige Hunter']\n",
      "['Paige Hunter', 'Nicole Nemeth']\n",
      "['Karl Henry', 'Ruth Henry']\n",
      "['Karl Henry', 'Anne-Liese Henry']\n",
      "['Karl Henry', 'Jurgen Henry Sr.']\n",
      "['Karl Henry', 'Ursula Henry']\n",
      "['Ursula Henry', 'Franklin Dare']\n",
      "['Franklin Dare', 'Kathleen Dare']\n",
      "['Chester Stidham', 'Thomas Stidham Sr.']\n",
      "['Edmond Uriah Stidham', 'Chester Stidham']\n",
      "['Joseph Ward', 'Everett Ward']\n",
      "['Harvey Marcum', 'Abigail Marcum']\n",
      "['Everett Ward', 'Harold Ward']\n",
      "['Everett Ward', 'Helen Ward']\n",
      "['Everett Ward', 'Bill Ward']\n",
      "['Everett Ward', 'Florence Ward']\n",
      "['Everett Ward', 'Pauline Ward']\n",
      "['Everett Ward', 'Dale Ward']\n",
      "['Everett Ward', 'Shirley Belle Ward']\n",
      "['Cornelius Farmer', 'Orpha Farmer']\n",
      "['Fred Wright', 'Harold Wright']\n",
      "['Edmond Uriah Stidham', 'Forrest Wayne Stidham']\n",
      "['Edmond Uriah Stidham', 'Bill Stidham']\n",
      "['Edmond Uriah Stidham', 'Gurney Stidham']\n",
      "['Edmond Uriah Stidham', 'George Stidham']\n",
      "['Edmond Uriah Stidham', 'Violet Stidham']\n",
      "['Edmond Uriah Stidham', 'Laura Mabel Stidham']\n",
      "['Darrell Mowers', 'Patricia Mowers']\n",
      "['Darrell Mowers', 'Gloria Mowers']\n",
      "['Darrell Mowers', 'Fannie Granville']\n",
      "['Patricia Mowers', 'Melissa Wright']\n"
     ]
    }
   ],
   "source": [
    "generatefamilytree('../myfamily.csv','myfamily')"
   ]
  },
  {
   "cell_type": "code",
   "execution_count": 33,
   "metadata": {
    "scrolled": true
   },
   "outputs": [],
   "source": [
    "generatefamilytree('../britishroyalfamily.csv','britishroyalfamily')"
   ]
  },
  {
   "cell_type": "code",
   "execution_count": null,
   "metadata": {
    "scrolled": true
   },
   "outputs": [],
   "source": []
  },
  {
   "cell_type": "code",
   "execution_count": null,
   "metadata": {},
   "outputs": [],
   "source": []
  },
  {
   "cell_type": "code",
   "execution_count": null,
   "metadata": {},
   "outputs": [],
   "source": []
  }
 ],
 "metadata": {
  "kernelspec": {
   "display_name": "Python 3",
   "language": "python",
   "name": "python3"
  },
  "language_info": {
   "codemirror_mode": {
    "name": "ipython",
    "version": 3
   },
   "file_extension": ".py",
   "mimetype": "text/x-python",
   "name": "python",
   "nbconvert_exporter": "python",
   "pygments_lexer": "ipython3",
   "version": "3.8.5"
  }
 },
 "nbformat": 4,
 "nbformat_minor": 4
}
